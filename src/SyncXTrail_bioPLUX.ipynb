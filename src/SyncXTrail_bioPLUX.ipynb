{
 "cells": [
  {
   "cell_type": "code",
   "execution_count": null,
   "metadata": {},
   "outputs": [],
   "source": [
    "import asyncio, time, sys\n",
    "import websockets, json\n",
    "import numpy as np\n",
    "import syncmetrics as syncm\n",
    "from numpy_ringbuffer import RingBuffer\n",
    "\n",
    "from pythonosc import osc_message_builder\n",
    "from pythonosc import osc_bundle_builder\n",
    "from pythonosc import udp_client\n",
    "import os\n",
    "os.environ[\"TF_CPP_MIN_LOG_LEVEL\"]=\"3\""
   ]
  },
  {
   "cell_type": "code",
   "execution_count": null,
   "metadata": {
    "collapsed": true
   },
   "outputs": [],
   "source": [
    "# OSC output config\n",
    "local_ip = '127.0.0.1'\n",
    "local_port = 12000\n",
    "output_address = '/results'\n",
    "client = udp_client.SimpleUDPClient(local_ip, local_port)\n",
    "\n",
    "#    Send to Processing/MAX/Etc...\n",
    "def msg(values):\n",
    "    print(values[0])\n",
    "    client.send_message(\"/results\", values[0])\n",
    "\n",
    "#    Send to Processing/MAX/Etc...\n",
    "def send_osc_bundle(values):\n",
    "    bundle = osc_bundle_builder.OscBundleBuilder(osc_bundle_builder.IMMEDIATELY)\n",
    "    msg = osc_message_builder.OscMessageBuilder(address=output_address)\n",
    "    for arg_to_add in values:\n",
    "        msg.add_arg(arg_to_add)\n",
    "    bundle.add_content(msg.build())\n",
    "    bundle = bundle.build()\n",
    "    client.send(bundle)\n",
    "\n",
    "def output_labeled(json_data):\n",
    "    print(json_data)\n",
    "    for key, value in json_data:\n",
    "        output_address = \"/result/\" + label\n",
    "        msg = osc_message_builder.OscMessageBuilder(\n",
    "            address=output_address)\n",
    "        arg_to_add = value\n",
    "        msg.add_arg(arg_to_add)\n",
    "        msg.build()\n",
    "        self.client.send(msg)\n",
    "#     bundle = osc_bundle_builder.OscBundleBuilder(\n",
    "#         osc_bundle_builder.IMMEDIATELY)\n",
    "    "
   ]
  },
  {
   "cell_type": "code",
   "execution_count": null,
   "metadata": {
    "collapsed": true
   },
   "outputs": [],
   "source": [
    "class Session:\n",
    "    device_data = json.dumps({})\n",
    "    uri = 'ws://localhost:9001'\n",
    "    ws_timeout = 5.0\n",
    "    num_users = 2\n",
    "\n",
    "    # to do processing in windoes \n",
    "    fs=1000\n",
    "    buffer_W=150\n",
    "    win_size=15*fs\n",
    "    window_A = np.zeros(win_size)\n",
    "    window_B = np.zeros(win_size)\n",
    "    no_buffer=int(win_size/buffer_W)\n",
    "    \n",
    "    ema_buffers = RingBuffer(capacity=15, dtype=(float, num_users)) \n",
    "    feature_buffers = RingBuffer(capacity=no_buffer, dtype=(float, num_users))\n",
    "\n",
    "    def calculate_features(self):\n",
    "        device_data = json.loads(self.device_data)\n",
    "#         self.ema_buffers.appendleft(device_data[\"CH1\"][0], device_data[\"CH2\"][0])\n",
    "#         sigA = abs(self.ema_buffers[0][0] - self.ema_buffers[0][-1]) / 15\n",
    "#         sigB = abs(self.ema_buffers[1][0] - abs(self.ema_buffers[1][-1] / 15\n",
    "#         self.feature_buffers.appendleft([sigA, sigB])\n",
    "\n",
    "        self.feature_buffers.appendleft([float(device_data[\"CH1\"][0]), float(device_data[\"CH2\"][0])])\n",
    "        if self.feature_buffers.shape[0] > self.no_buffer-1:\n",
    "            buff_A = np.array([i[0] for i in np.array(self.feature_buffers)])\n",
    "            buff_B = np.array([i[1] for i in np.array(self.feature_buffers)])\n",
    "            result_1=syncm.lin_reg_r_metric(buff_A, buff_B)\n",
    "            result_2=syncm.cos_similarity(buff_A, buff_B).flat[0]\n",
    "            result_3=syncm.correlation_coeff(buff_A, buff_B).flat[0]\n",
    "\n",
    "            #add results here\n",
    "            results = [(result_3)]\n",
    "            print(results)\n",
    "#             msg(results)\n",
    "\n",
    "    async def ServerBIT_recieve(self, uri):\n",
    "        async with websockets.connect(uri) as websocket:\n",
    "            while True:\n",
    "                self.device_data = await websocket.recv()\n",
    "                self.calculate_features()\n",
    "                await asyncio.sleep(0.0)\n",
    "\n",
    "    def run(self):\n",
    "        uri = self.uri\n",
    "        print(\"Serving on {}\".format(uri))\n",
    "        try:\n",
    "            asyncio.get_event_loop().run_until_complete(\n",
    "                self.ServerBIT_recieve(uri))\n",
    "        except Exception as e:\n",
    "            print(e)\n",
    "            pass\n",
    "        finally:\n",
    "            print(\"no connection, try again\")\n",
    "            exit"
   ]
  },
  {
   "cell_type": "code",
   "execution_count": null,
   "metadata": {},
   "outputs": [],
   "source": [
    "session = Session()\n",
    "session.run()"
   ]
  },
  {
   "cell_type": "code",
   "execution_count": null,
   "metadata": {
    "collapsed": true
   },
   "outputs": [],
   "source": []
  }
 ],
 "metadata": {
  "kernelspec": {
   "display_name": "Python 3",
   "language": "python",
   "name": "python3"
  },
  "language_info": {
   "codemirror_mode": {
    "name": "ipython",
    "version": 3
   },
   "file_extension": ".py",
   "mimetype": "text/x-python",
   "name": "python",
   "nbconvert_exporter": "python",
   "pygments_lexer": "ipython3",
   "version": "3.5.3"
  }
 },
 "nbformat": 4,
 "nbformat_minor": 2
}
